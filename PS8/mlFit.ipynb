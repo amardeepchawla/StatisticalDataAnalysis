{
 "cells": [
  {
   "cell_type": "code",
   "execution_count": 9,
   "metadata": {},
   "outputs": [],
   "source": [
    "# Example of maximum-likelihood fit with iminuit.\n",
    "# pdf is a mixture of Gaussian (signal) and exponential (background),\n",
    "# truncated in [xMin,xMax].\n",
    "# G. Cowan / RHUL Physics / November 2020\n",
    "\n",
    "import numpy as np\n",
    "import scipy.stats as stats\n",
    "from scipy.stats import truncexpon\n",
    "from scipy.stats import truncnorm\n",
    "from scipy.stats import chi2\n",
    "from iminuit import Minuit\n",
    "import matplotlib.pyplot as plt\n",
    "from matplotlib import container\n",
    "plt.rcParams[\"font.size\"] = 14"
   ]
  },
  {
   "cell_type": "code",
   "execution_count": 10,
   "metadata": {},
   "outputs": [],
   "source": [
    "# define pdf and generate data\n",
    "np.random.seed(seed=1234567)        # fix random seed\n",
    "theta = 0.2                         # fraction of signal\n",
    "mu = 10.                            # mean of Gaussian\n",
    "sigma = 2.                          # std. dev. of Gaussian\n",
    "xi = 5.                             # mean of exponential\n",
    "xMin = 0.\n",
    "xMax = 20.\n",
    "\n",
    "def f(x, par):\n",
    "    theta   = par[0]\n",
    "    mu      = par[1]\n",
    "    sigma   = par[2]\n",
    "    xi      = par[3]\n",
    "    fs = stats.truncnorm.pdf(x, a=(xMin-mu)/sigma, b=(xMax-mu)/sigma, loc=mu, scale=sigma)\n",
    "    fb = stats.truncexpon.pdf(x, b=(xMax-xMin)/xi, loc=xMin, scale=xi)\n",
    "    return theta*fs + (1-theta)*fb"
   ]
  },
  {
   "cell_type": "code",
   "execution_count": 11,
   "metadata": {},
   "outputs": [],
   "source": [
    "numVal = 200\n",
    "xData = np.empty([numVal])\n",
    "for i in range (numVal):\n",
    "    r = np.random.uniform();\n",
    "    if r < theta:\n",
    "        xData[i] = stats.truncnorm.rvs(a=(xMin-mu)/sigma, b=(xMax-mu)/sigma, loc=mu, scale=sigma)\n",
    "    else:\n",
    "        xData[i] = stats.truncexpon.rvs(b=(xMax-xMin)/xi, loc=xMin, scale=xi)"
   ]
  },
  {
   "cell_type": "code",
   "execution_count": 12,
   "metadata": {},
   "outputs": [],
   "source": [
    "# Function to be minimized is negative log-likelihood\n",
    "def negLogL(par):\n",
    "    pdf = f(xData, par)\n",
    "    return -np.sum(np.log(pdf))"
   ]
  },
  {
   "cell_type": "code",
   "execution_count": 43,
   "metadata": {},
   "outputs": [],
   "source": [
    "# Initialize Minuit and set up fit:\n",
    "#     initial parameter values are guesses,\n",
    "#     error values set initial step size in search algorithm,\n",
    "#     limit_param to set limits on parameters (needed here to keep pdf>0),\n",
    "#     fix_param=True to fix a parameter,\n",
    "#     errordef=0.5 means errors correspond to logL = logLmax - 0.5,\n",
    "#     pedantic=False to turn off verbose messages.\n",
    "\n",
    "par     = np.array([theta, mu, sigma, xi])      # initial values (here equal true values)\n",
    "parname = ['theta', 'mu', 'sigma', 'xi']\n",
    "parstep = np.array([0.1, 1., 1., 1.])           # initial setp sizes\n",
    "parfix  = [False, True, False, False]            # change these to fix/free parameters\n",
    "parlim  = [(0.,1), (None, None), (0., None), (0., None)]\n",
    "m = Minuit.from_array_func(negLogL, par, parstep, name=parname,\n",
    "    limit=parlim, fix=parfix, errordef=0.5, pedantic=False)"
   ]
  },
  {
   "cell_type": "code",
   "execution_count": 44,
   "metadata": {},
   "outputs": [],
   "source": [
    "# do the fit, get errors, extract results\n",
    "m.migrad()                                             # minimize -logL\n",
    "MLE = m.np_values()                                    # max-likelihood estimates\n",
    "sigmaMLE = m.np_errors()                               # standard deviations\n",
    "cov = m.np_matrix(skip_fixed=True)                     # covariance matrix\n",
    "rho = m.np_matrix(skip_fixed=True, correlation=True)   # correlation coeffs.\n",
    "npar = len(m.np_values())\n",
    "nfreepar = len(cov[0])"
   ]
  },
  {
   "cell_type": "code",
   "execution_count": 45,
   "metadata": {},
   "outputs": [
    {
     "name": "stdout",
     "output_type": "stream",
     "text": [
      "par index, name, estimate, standard deviation:\n",
      "   0 theta       =  0.211986  +/-  0.064456\n",
      "   2 sigma       =  2.100195  +/-  0.495499\n",
      "   3 xi          =  5.049386  +/-  0.707743\n",
      "\n",
      "free par indices, covariance, correlation coeff.:\n",
      "0 0 0.004190 1.000000\n",
      "0 1 0.017494 0.544629\n",
      "0 2 -0.029251 -0.638398\n",
      "1 0 0.017494 0.544629\n",
      "1 1 0.246269 1.000000\n",
      "1 2 -0.141023 -0.401443\n",
      "2 0 -0.029251 -0.638398\n",
      "2 1 -0.141023 -0.401443\n",
      "2 2 0.501096 1.000000\n"
     ]
    },
    {
     "name": "stderr",
     "output_type": "stream",
     "text": [
      "<ipython-input-45-32e75441021e>:4: DeprecationWarning: `is_fixed` is deprecated: Use `this_object.fixed[arg]` instead\n",
      "  if not(m.is_fixed(i)):\n"
     ]
    }
   ],
   "source": [
    "npar = len(m.np_values())\n",
    "print(r'par index, name, estimate, standard deviation:')\n",
    "for i in range(npar):\n",
    "    if not(m.is_fixed(i)):\n",
    "        print(\"{:4d}\".format(i), \"{:<10s}\".format(m.parameters[i]), \" = \",\n",
    "         \"{:.6f}\".format(MLE[i]), \" +/- \", \"{:.6f}\".format(sigmaMLE[i]))\n",
    "\n",
    "print()\n",
    "print(r'free par indices, covariance, correlation coeff.:')\n",
    "for i in range(nfreepar):\n",
    "    for j in range(nfreepar):\n",
    "        print(i, j, \"{:.6f}\".format(cov[i,j]), \"{:.6f}\".format(rho[i,j]))"
   ]
  },
  {
   "cell_type": "code",
   "execution_count": 46,
   "metadata": {},
   "outputs": [
    {
     "data": {
      "image/png": "[encoded data removed]",
      "text/plain": [
       "<Figure size 576x432 with 1 Axes>"
      ]
     },
     "metadata": {
      "needs_background": "light"
     },
     "output_type": "display_data"
    }
   ],
   "source": [
    "# Plot fitted pdf\n",
    "yMin = 0.\n",
    "yMax = f(0., MLE)*1.1\n",
    "fig = plt.figure(figsize=(8,6))\n",
    "xCurve = np.linspace(xMin, xMax, 100)\n",
    "yCurve = f(xCurve, MLE)\n",
    "plt.plot(xCurve, yCurve, color='dodgerblue')\n",
    "\n",
    "# Plot data as tick marks\n",
    "tick_height = 0.05*(yMax - yMin)\n",
    "xvals = [xData, xData]\n",
    "yvals = [np.zeros_like(xData), tick_height * np.ones_like(xData)]\n",
    "plt.plot(xvals, yvals, color='black', linewidth=1)\n",
    "plt.xlabel(r'$x$')\n",
    "plt.ylabel(r'$f(x; \\theta)$')\n",
    "plt.figtext(0.6, 0.8, r'$\\hat{\\theta} = $' + f'{MLE[0]:.4f}' +\n",
    "            r'$\\pm$' + f'{sigmaMLE[0]:.4f}')\n",
    "plt.figtext(0.6, 0.72, r'$\\hat{\\xi} = $' + f'{MLE[3]:.4f}' +\n",
    "            r'$\\pm$' + f'{sigmaMLE[3]:.4f}')\n",
    "plt.xlim(xMin, xMax)\n",
    "plt.ylim(yMin, yMax)\n",
    "plt.show()"
   ]
  },
  {
   "cell_type": "code",
   "execution_count": null,
   "metadata": {},
   "outputs": [
    {
     "name": "stderr",
     "output_type": "stream",
     "text": [
      "<ipython-input-47-12afaa9b81d8>:2: DeprecationWarning: `is_fixed` is deprecated: Use `this_object.fixed[arg]` instead\n",
      "  if not(m.is_fixed('theta')):\n"
     ]
    }
   ],
   "source": [
    "# Make scan of lnL (for theta, if free)\n",
    "if not(m.is_fixed('theta')):\n",
    "    plt.figure()\n",
    "    m.draw_mnprofile('theta')"
   ]
  },
  {
   "cell_type": "code",
   "execution_count": null,
   "metadata": {},
   "outputs": [],
   "source": [
    "# Make a contour plot of lnL = lnLmax - 1/2 (here for theta and xi)\n",
    "if not(m.is_fixed('theta') | m.is_fixed('xi')):\n",
    "    plt.figure()\n",
    "    m.draw_mncontour('theta', 'xi', nsigma=1, numpoints=200);\n",
    "    plt.plot(MLE[0], MLE[3], marker='o', linestyle='None', color='black', label=r'$(\\hat{\\theta}, \\hat{\\xi})$')\n",
    "    plt.figtext(0.6, 0.8, r'$\\ln L = \\ln L_{\\rm max} - 1/2$')\n",
    "    plt.show()"
   ]
  },
  {
   "cell_type": "code",
   "execution_count": null,
   "metadata": {},
   "outputs": [],
   "source": [
    "# Confidence region from lnL = lnLmax - Q/2 (here for theta and xi)\n",
    "if not(m.is_fixed('theta') | m.is_fixed('xi')):\n",
    "    CL = 0.95\n",
    "    Q = chi2.ppf(CL, nfreepar)   # lnL = lnLmax - Q/2\n",
    "    sig = np.sqrt(Q)             # number of sigmas of contour\n",
    "    fig, ax = plt.subplots(1,1)\n",
    "    contour = m.mncontour('theta', 'xi', sigma=sig, numpoints=200)[2]\n",
    "    contour.append(contour[0])    # close the contour\n",
    "    con = np.array(contour)\n",
    "    plt.plot(MLE[0], MLE[3], marker='o', linestyle='None', color='black', label=r'$(\\hat{\\theta}, \\hat{\\xi})$')\n",
    "    plt.plot(con[:,0], con[:,1], color='black', linewidth=1, label=r'95%')\n",
    "    plt.xlabel(r'$\\theta$', labelpad=10)\n",
    "    plt.ylabel(r'$\\xi$', labelpad=10)\n",
    "    plt.subplots_adjust(left=0.2, right=0.9, top=0.9, bottom=0.2)\n",
    "    handles, labels = ax.get_legend_handles_labels()\n",
    "    plt.legend(handles, labels, loc='upper right', fontsize=14, frameon=False)\n",
    "    plt.show()"
   ]
  },
  {
   "cell_type": "code",
   "execution_count": null,
   "metadata": {},
   "outputs": [],
   "source": []
  },
  {
   "cell_type": "code",
   "execution_count": null,
   "metadata": {},
   "outputs": [],
   "source": []
  }
 ],
 "metadata": {
  "kernelspec": {
   "display_name": "Python 3",
   "language": "python",
   "name": "python3"
  },
  "language_info": {
   "codemirror_mode": {
    "name": "ipython",
    "version": 3
   },
   "file_extension": ".py",
   "mimetype": "text/x-python",
   "name": "python",
   "nbconvert_exporter": "python",
   "pygments_lexer": "ipython3",
   "version": "3.8.3"
  }
 },
 "nbformat": 4,
 "nbformat_minor": 2
}
