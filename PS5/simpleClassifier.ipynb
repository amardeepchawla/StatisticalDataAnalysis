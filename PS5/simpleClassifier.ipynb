{
 "cells": [
  {
   "cell_type": "code",
   "execution_count": 75,
   "metadata": {},
   "outputs": [],
   "source": [
    "#  simpleClassifier.py\n",
    "#  G. Cowan / RHUL Physics / November 2020\n",
    "#  Simple program to illustrate classification with scikit-learn\n",
    "\n",
    "import scipy as sp\n",
    "import numpy as np\n",
    "import matplotlib\n",
    "import matplotlib.pyplot as plt\n",
    "import matplotlib.ticker as ticker\n",
    "\n",
    "from sklearn.discriminant_analysis import LinearDiscriminantAnalysis as LDA\n",
    "from sklearn.neural_network import MLPClassifier as MLP\n",
    "from sklearn.ensemble import AdaBoostClassifier as AdaBoost\n",
    "\n",
    "from sklearn.model_selection import train_test_split\n",
    "from sklearn import metrics"
   ]
  },
  {
   "cell_type": "code",
   "execution_count": 76,
   "metadata": {},
   "outputs": [],
   "source": [
    "#  read the data in from files, \n",
    "#  assign target values 1 for signal, 0 for background\n",
    "sigData = np.loadtxt('signal.txt')\n",
    "nSig = sigData.shape[0]\n",
    "sigTargets = np.ones(nSig)\n",
    "\n",
    "bkgData = np.loadtxt('background.txt')\n",
    "nBkg = bkgData.shape[0]\n",
    "bkgTargets = np.zeros(nBkg)"
   ]
  },
  {
   "cell_type": "code",
   "execution_count": 77,
   "metadata": {},
   "outputs": [
    {
     "name": "stdout",
     "output_type": "stream",
     "text": [
      "power of test with respect to signal =  0.8902047370533922\n"
     ]
    }
   ],
   "source": [
    "# concatenate arrays into data X and targets y\n",
    "X = np.concatenate((sigData,bkgData),0)\n",
    "#X = X[:,0:2]                       # at first, only use x1 and x2\n",
    "y = np.concatenate((sigTargets, bkgTargets))\n",
    "X_train, X_test, y_train, y_test = train_test_split(X, y, test_size=0.5, random_state=1)\n",
    "\n",
    "# Create classifier object and train\n",
    "# Add code here to include other classifiers (MLP, BDT,...)\n",
    "#clf = LDA()\n",
    "#clf = MLP(hidden_layer_sizes=3)\n",
    "\n",
    "clf = AdaBoost(n_estimators=200)\n",
    "clf.fit(X_train, y_train)\n",
    "\n",
    "# Evaluate accuracy using the test data.\n",
    "# If available, use the decision function, else (e.g. for MLP) use predict_proba\n",
    "# Adjust threshold value tCut or pMin as appropriate\n",
    "\n",
    "X_bkg_test = X_test[y_test==0]\n",
    "X_sig_test = X_test[y_test==1]\n",
    "y_bkg_test = y_test[y_test==0]\n",
    "y_sig_test = y_test[y_test==1]\n",
    "#print((X_bkg_test), (X_bkg_test))\n",
    "if hasattr(clf, \"decision_function\"):\n",
    "    tCut = 0.\n",
    "    y_bkg_pred = (clf.decision_function(X_bkg_test) >= tCut).astype(bool)\n",
    "    y_sig_pred = (clf.decision_function(X_sig_test) >= tCut).astype(bool)\n",
    "else:\n",
    "    pMin = 0.9\n",
    "    y_bkg_pred = (clf.predict_proba(X_bkg_test)[:,1]  >= pMin).astype(bool)\n",
    "    y_sig_pred = (clf.predict_proba(X_sig_test)[:,1]  >= pMin).astype(bool)\n",
    "\n",
    "power = metrics.accuracy_score(y_sig_test, y_sig_pred)        # = = Prob(t >= tCut|sig)\n",
    "print('power of test with respect to signal = ', power)"
   ]
  },
  {
   "cell_type": "code",
   "execution_count": 78,
   "metadata": {},
   "outputs": [
    {
     "name": "stdout",
     "output_type": "stream",
     "text": [
      "size of test with respect to bkg =  0.08110801115982458\n"
     ]
    }
   ],
   "source": [
    "#  Add code here to obtain the background efficiency\n",
    "# = size of test alpha = = Prob(t >= tCut|bkg)\n",
    "\n",
    "#************************ Question 1a *****************************\n",
    "\n",
    "size = 1 - metrics.accuracy_score(y_bkg_test, y_bkg_pred)\n",
    "print('size of test with respect to bkg = ', size)"
   ]
  },
  {
   "cell_type": "code",
   "execution_count": 79,
   "metadata": {},
   "outputs": [
    {
     "name": "stdout",
     "output_type": "stream",
     "text": [
      "purity:  0.9164965029965608\n"
     ]
    }
   ],
   "source": [
    "#************************ Question 1b *****************************\n",
    "\n",
    "# Using Bayes Theorem P(s|t>tc) = P(t>tc|s) pi(s)/(P(t>tc|s) pi(s) + P(t>tc|b)pi(b)\n",
    "# Since prior probabilities are the same, they cancel out.\n",
    "purity = power/(power + size)\n",
    "print(\"purity: \", purity)"
   ]
  },
  {
   "cell_type": "code",
   "execution_count": 80,
   "metadata": {},
   "outputs": [
    {
     "data": {
      "text/plain": [
       "'\"\\nfig, ax = plt.subplots(1,1)\\nplt.gcf().subplots_adjust(bottom=0.15)\\nplt.gcf().subplots_adjust(left=0.15)\\nax.set_xlim((-2.5,3.5))\\nax.set_ylim((-2,4))\\nx0,x1 = ax.get_xlim()\\ny0,y1 = ax.get_ylim()\\nax.set_aspect(abs(x1-x0)/abs(y1-y0))       # make square plot\\nxtick_spacing = 0.5\\nytick_spacing = 2.0\\nax.yaxis.set_major_locator(ticker.MultipleLocator(xtick_spacing))\\nax.yaxis.set_major_locator(ticker.MultipleLocator(ytick_spacing))\\n#plt.scatter(sigData[:,0], sigData[:,1], s=3, color=\\'dodgerblue\\', marker=\\'o\\')\\n#plt.scatter(bkgData[:,0], bkgData[:,1], s=3, color=\\'red\\', marker=\\'o\\')\\n\\n# add decision boundary to scatter plot\\nx_min, x_max = X[:, 0].min() - .5, X[:, 0].max() + .5\\ny_min, y_max = X[:, 1].min() - .5, X[:, 1].max() + .5\\nh = .01  # step size in the mesh\\n#xx, yy = np.meshgrid(np.arange(x_min, x_max, h), np.arange(y_min, y_max, h))\\n# depending on classifier call predict_proba or decision_function\\nZ = clf.predict_proba(np.c_[xx.ravel(), yy.ravel()])[:, 1]\\nZ = Z.reshape(xx.shape)\\n#plt.contour(xx, yy, Z, 1, colors=\\'k\\')\\nplt.xlabel(r\\'$x_{1}$\\', labelpad=0)\\nplt.ylabel(r\\'$x_{2}$\\', labelpad=15)\\nplt.savefig(\"scatterplot.pdf\", format=\\'pdf\\') \\n'"
      ]
     },
     "execution_count": 80,
     "metadata": {},
     "output_type": "execute_result"
    }
   ],
   "source": [
    "# make a scatter plot\n",
    "\"\"\"\"\n",
    "fig, ax = plt.subplots(1,1)\n",
    "plt.gcf().subplots_adjust(bottom=0.15)\n",
    "plt.gcf().subplots_adjust(left=0.15)\n",
    "ax.set_xlim((-2.5,3.5))\n",
    "ax.set_ylim((-2,4))\n",
    "x0,x1 = ax.get_xlim()\n",
    "y0,y1 = ax.get_ylim()\n",
    "ax.set_aspect(abs(x1-x0)/abs(y1-y0))       # make square plot\n",
    "xtick_spacing = 0.5\n",
    "ytick_spacing = 2.0\n",
    "ax.yaxis.set_major_locator(ticker.MultipleLocator(xtick_spacing))\n",
    "ax.yaxis.set_major_locator(ticker.MultipleLocator(ytick_spacing))\n",
    "#plt.scatter(sigData[:,0], sigData[:,1], s=3, color='dodgerblue', marker='o')\n",
    "#plt.scatter(bkgData[:,0], bkgData[:,1], s=3, color='red', marker='o')\n",
    "\n",
    "# add decision boundary to scatter plot\n",
    "x_min, x_max = X[:, 0].min() - .5, X[:, 0].max() + .5\n",
    "y_min, y_max = X[:, 1].min() - .5, X[:, 1].max() + .5\n",
    "h = .01  # step size in the mesh\n",
    "#xx, yy = np.meshgrid(np.arange(x_min, x_max, h), np.arange(y_min, y_max, h))\n",
    "# depending on classifier call predict_proba or decision_function\n",
    "Z = clf.predict_proba(np.c_[xx.ravel(), yy.ravel()])[:, 1]\n",
    "Z = Z.reshape(xx.shape)\n",
    "#plt.contour(xx, yy, Z, 1, colors='k')\n",
    "plt.xlabel(r'$x_{1}$', labelpad=0)\n",
    "plt.ylabel(r'$x_{2}$', labelpad=15)\n",
    "plt.savefig(\"scatterplot.pdf\", format='pdf') \n",
    "\"\"\""
   ]
  },
  {
   "cell_type": "code",
   "execution_count": 81,
   "metadata": {},
   "outputs": [
    {
     "data": {
      "image/png": "[encoded data removed]",
      "text/plain": [
       "<Figure size 432x288 with 1 Axes>"
      ]
     },
     "metadata": {
      "needs_background": "light"
     },
     "output_type": "display_data"
    }
   ],
   "source": [
    "# make histogram of decision function\n",
    "plt.figure()                                     # new window\n",
    "matplotlib.rcParams.update({'font.size':14})     # set all font sizes\n",
    "tTest = clf.predict_proba(X_test)[:,1]\n",
    "if hasattr(clf, \"decision_function\"):\n",
    "    tTest = clf.decision_function(X_test)        # if available use decision_function\n",
    "else:\n",
    "    tTest = clf.predict_proba(X_test)[:,1]       # for e.g. MLP need to use predict_proba\n",
    "tBkg = tTest[y_test==0]\n",
    "tSig = tTest[y_test==1]\n",
    "nBins = 50\n",
    "tMin = np.floor(np.min(tTest))\n",
    "tMax = np.ceil(np.max(tTest))\n",
    "bins = np.linspace(tMin, tMax, nBins+1)\n",
    "plt.xlabel('decision function $t$', labelpad=3)\n",
    "plt.ylabel('$f(t)$', labelpad=3)\n",
    "n, bins, patches = plt.hist(tSig, bins=bins, density=True, histtype='step', fill=False, color='dodgerblue')\n",
    "n, bins, patches = plt.hist(tBkg, bins=bins, density=True, histtype='step', fill=False, color='red', alpha=0.5)\n",
    "plt.savefig(\"decision_function_hist.pdf\", format='pdf')\n",
    "\n",
    "plt.show()"
   ]
  },
  {
   "cell_type": "code",
   "execution_count": 57,
   "metadata": {},
   "outputs": [],
   "source": [
    "from sklearn.ensemble import AdaBoostClassifier"
   ]
  },
  {
   "cell_type": "code",
   "execution_count": null,
   "metadata": {},
   "outputs": [],
   "source": []
  }
 ],
 "metadata": {
  "anaconda-cloud": {},
  "kernelspec": {
   "display_name": "Python 3",
   "language": "python",
   "name": "python3"
  },
  "language_info": {
   "codemirror_mode": {
    "name": "ipython",
    "version": 3
   },
   "file_extension": ".py",
   "mimetype": "text/x-python",
   "name": "python",
   "nbconvert_exporter": "python",
   "pygments_lexer": "ipython3",
   "version": "3.8.3"
  }
 },
 "nbformat": 4,
 "nbformat_minor": 4
}
